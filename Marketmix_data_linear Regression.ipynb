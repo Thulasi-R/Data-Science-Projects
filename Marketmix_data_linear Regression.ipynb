{
 "cells": [
  {
   "cell_type": "code",
   "execution_count": 1,
   "metadata": {},
   "outputs": [],
   "source": [
    "import os\n",
    "import pandas as pd\n",
    "from pandas import DataFrame\n",
    "import numpy as np\n",
    "import matplotlib.pyplot as plt\n",
    "%matplotlib inline"
   ]
  },
  {
   "cell_type": "code",
   "execution_count": 2,
   "metadata": {},
   "outputs": [
    {
     "data": {
      "text/html": [
       "<div>\n",
       "<style scoped>\n",
       "    .dataframe tbody tr th:only-of-type {\n",
       "        vertical-align: middle;\n",
       "    }\n",
       "\n",
       "    .dataframe tbody tr th {\n",
       "        vertical-align: top;\n",
       "    }\n",
       "\n",
       "    .dataframe thead th {\n",
       "        text-align: right;\n",
       "    }\n",
       "</style>\n",
       "<table border=\"1\" class=\"dataframe\">\n",
       "  <thead>\n",
       "    <tr style=\"text-align: right;\">\n",
       "      <th></th>\n",
       "      <th>NewVolSales</th>\n",
       "      <th>Base_Price</th>\n",
       "      <th>Radio</th>\n",
       "      <th>InStore</th>\n",
       "      <th>Discount</th>\n",
       "      <th>TV</th>\n",
       "      <th>Stout</th>\n",
       "    </tr>\n",
       "  </thead>\n",
       "  <tbody>\n",
       "    <tr>\n",
       "      <th>0</th>\n",
       "      <td>19564</td>\n",
       "      <td>15.029276</td>\n",
       "      <td>245.0</td>\n",
       "      <td>15.452</td>\n",
       "      <td>0.000</td>\n",
       "      <td>101.780000</td>\n",
       "      <td>2.28342</td>\n",
       "    </tr>\n",
       "    <tr>\n",
       "      <th>1</th>\n",
       "      <td>19387</td>\n",
       "      <td>15.029276</td>\n",
       "      <td>314.0</td>\n",
       "      <td>16.388</td>\n",
       "      <td>0.000</td>\n",
       "      <td>76.734000</td>\n",
       "      <td>2.22134</td>\n",
       "    </tr>\n",
       "    <tr>\n",
       "      <th>2</th>\n",
       "      <td>23889</td>\n",
       "      <td>14.585093</td>\n",
       "      <td>324.0</td>\n",
       "      <td>62.692</td>\n",
       "      <td>0.050</td>\n",
       "      <td>131.590200</td>\n",
       "      <td>2.00604</td>\n",
       "    </tr>\n",
       "    <tr>\n",
       "      <th>3</th>\n",
       "      <td>20055</td>\n",
       "      <td>15.332887</td>\n",
       "      <td>298.0</td>\n",
       "      <td>16.573</td>\n",
       "      <td>0.000</td>\n",
       "      <td>119.627060</td>\n",
       "      <td>2.19897</td>\n",
       "    </tr>\n",
       "    <tr>\n",
       "      <th>4</th>\n",
       "      <td>20064</td>\n",
       "      <td>15.642632</td>\n",
       "      <td>279.0</td>\n",
       "      <td>41.504</td>\n",
       "      <td>0.045</td>\n",
       "      <td>103.438118</td>\n",
       "      <td>1.81860</td>\n",
       "    </tr>\n",
       "  </tbody>\n",
       "</table>\n",
       "</div>"
      ],
      "text/plain": [
       "   NewVolSales  Base_Price  Radio   InStore  Discount          TV    Stout\n",
       "0        19564   15.029276   245.0   15.452     0.000  101.780000  2.28342\n",
       "1        19387   15.029276   314.0   16.388     0.000   76.734000  2.22134\n",
       "2        23889   14.585093   324.0   62.692     0.050  131.590200  2.00604\n",
       "3        20055   15.332887   298.0   16.573     0.000  119.627060  2.19897\n",
       "4        20064   15.642632   279.0   41.504     0.045  103.438118  1.81860"
      ]
     },
     "execution_count": 2,
     "metadata": {},
     "output_type": "execute_result"
    }
   ],
   "source": [
    "#Reading Data\n",
    "data=pd.read_csv(\"mktmix.csv\")\n",
    "data.head()"
   ]
  },
  {
   "cell_type": "code",
   "execution_count": 3,
   "metadata": {},
   "outputs": [
    {
     "data": {
      "text/html": [
       "<div>\n",
       "<style scoped>\n",
       "    .dataframe tbody tr th:only-of-type {\n",
       "        vertical-align: middle;\n",
       "    }\n",
       "\n",
       "    .dataframe tbody tr th {\n",
       "        vertical-align: top;\n",
       "    }\n",
       "\n",
       "    .dataframe thead th {\n",
       "        text-align: right;\n",
       "    }\n",
       "</style>\n",
       "<table border=\"1\" class=\"dataframe\">\n",
       "  <thead>\n",
       "    <tr style=\"text-align: right;\">\n",
       "      <th></th>\n",
       "      <th>NewVolSales</th>\n",
       "      <th>Base_Price</th>\n",
       "      <th>Radio</th>\n",
       "      <th>InStore</th>\n",
       "      <th>Discount</th>\n",
       "      <th>TV</th>\n",
       "      <th>Stout</th>\n",
       "    </tr>\n",
       "  </thead>\n",
       "  <tbody>\n",
       "    <tr>\n",
       "      <th>0</th>\n",
       "      <td>19564</td>\n",
       "      <td>15.029276</td>\n",
       "      <td>245.0</td>\n",
       "      <td>15.452</td>\n",
       "      <td>0.000</td>\n",
       "      <td>101.780000</td>\n",
       "      <td>2.28342</td>\n",
       "    </tr>\n",
       "    <tr>\n",
       "      <th>1</th>\n",
       "      <td>19387</td>\n",
       "      <td>15.029276</td>\n",
       "      <td>314.0</td>\n",
       "      <td>16.388</td>\n",
       "      <td>0.000</td>\n",
       "      <td>76.734000</td>\n",
       "      <td>2.22134</td>\n",
       "    </tr>\n",
       "    <tr>\n",
       "      <th>2</th>\n",
       "      <td>23889</td>\n",
       "      <td>14.585093</td>\n",
       "      <td>324.0</td>\n",
       "      <td>62.692</td>\n",
       "      <td>0.050</td>\n",
       "      <td>131.590200</td>\n",
       "      <td>2.00604</td>\n",
       "    </tr>\n",
       "    <tr>\n",
       "      <th>3</th>\n",
       "      <td>20055</td>\n",
       "      <td>15.332887</td>\n",
       "      <td>298.0</td>\n",
       "      <td>16.573</td>\n",
       "      <td>0.000</td>\n",
       "      <td>119.627060</td>\n",
       "      <td>2.19897</td>\n",
       "    </tr>\n",
       "    <tr>\n",
       "      <th>4</th>\n",
       "      <td>20064</td>\n",
       "      <td>15.642632</td>\n",
       "      <td>279.0</td>\n",
       "      <td>41.504</td>\n",
       "      <td>0.045</td>\n",
       "      <td>103.438118</td>\n",
       "      <td>1.81860</td>\n",
       "    </tr>\n",
       "  </tbody>\n",
       "</table>\n",
       "</div>"
      ],
      "text/plain": [
       "   NewVolSales  Base_Price  Radio   InStore  Discount          TV    Stout\n",
       "0        19564   15.029276   245.0   15.452     0.000  101.780000  2.28342\n",
       "1        19387   15.029276   314.0   16.388     0.000   76.734000  2.22134\n",
       "2        23889   14.585093   324.0   62.692     0.050  131.590200  2.00604\n",
       "3        20055   15.332887   298.0   16.573     0.000  119.627060  2.19897\n",
       "4        20064   15.642632   279.0   41.504     0.045  103.438118  1.81860"
      ]
     },
     "execution_count": 3,
     "metadata": {},
     "output_type": "execute_result"
    }
   ],
   "source": [
    "data.head()"
   ]
  },
  {
   "cell_type": "code",
   "execution_count": 4,
   "metadata": {},
   "outputs": [
    {
     "data": {
      "text/plain": [
       "(104, 7)"
      ]
     },
     "execution_count": 4,
     "metadata": {},
     "output_type": "execute_result"
    }
   ],
   "source": [
    "data.shape"
   ]
  },
  {
   "cell_type": "code",
   "execution_count": 5,
   "metadata": {},
   "outputs": [
    {
     "data": {
      "text/html": [
       "<div>\n",
       "<style scoped>\n",
       "    .dataframe tbody tr th:only-of-type {\n",
       "        vertical-align: middle;\n",
       "    }\n",
       "\n",
       "    .dataframe tbody tr th {\n",
       "        vertical-align: top;\n",
       "    }\n",
       "\n",
       "    .dataframe thead th {\n",
       "        text-align: right;\n",
       "    }\n",
       "</style>\n",
       "<table border=\"1\" class=\"dataframe\">\n",
       "  <thead>\n",
       "    <tr style=\"text-align: right;\">\n",
       "      <th></th>\n",
       "      <th>NewVolSales</th>\n",
       "      <th>Base_Price</th>\n",
       "      <th>Radio</th>\n",
       "      <th>InStore</th>\n",
       "      <th>Discount</th>\n",
       "      <th>TV</th>\n",
       "      <th>Stout</th>\n",
       "    </tr>\n",
       "  </thead>\n",
       "  <tbody>\n",
       "    <tr>\n",
       "      <th>count</th>\n",
       "      <td>104.00</td>\n",
       "      <td>104.00</td>\n",
       "      <td>100.00</td>\n",
       "      <td>104.00</td>\n",
       "      <td>104.00</td>\n",
       "      <td>104.00</td>\n",
       "      <td>104.00</td>\n",
       "    </tr>\n",
       "    <tr>\n",
       "      <th>mean</th>\n",
       "      <td>20171.07</td>\n",
       "      <td>15.31</td>\n",
       "      <td>256.69</td>\n",
       "      <td>32.92</td>\n",
       "      <td>0.02</td>\n",
       "      <td>141.01</td>\n",
       "      <td>2.55</td>\n",
       "    </tr>\n",
       "    <tr>\n",
       "      <th>std</th>\n",
       "      <td>1578.60</td>\n",
       "      <td>0.53</td>\n",
       "      <td>86.99</td>\n",
       "      <td>13.68</td>\n",
       "      <td>0.03</td>\n",
       "      <td>42.95</td>\n",
       "      <td>0.31</td>\n",
       "    </tr>\n",
       "    <tr>\n",
       "      <th>min</th>\n",
       "      <td>17431.00</td>\n",
       "      <td>13.74</td>\n",
       "      <td>0.00</td>\n",
       "      <td>10.78</td>\n",
       "      <td>0.00</td>\n",
       "      <td>37.66</td>\n",
       "      <td>1.82</td>\n",
       "    </tr>\n",
       "    <tr>\n",
       "      <th>25%</th>\n",
       "      <td>19048.75</td>\n",
       "      <td>15.03</td>\n",
       "      <td>235.00</td>\n",
       "      <td>22.18</td>\n",
       "      <td>0.00</td>\n",
       "      <td>117.11</td>\n",
       "      <td>2.32</td>\n",
       "    </tr>\n",
       "    <tr>\n",
       "      <th>50%</th>\n",
       "      <td>19943.50</td>\n",
       "      <td>15.33</td>\n",
       "      <td>278.50</td>\n",
       "      <td>31.16</td>\n",
       "      <td>0.00</td>\n",
       "      <td>138.58</td>\n",
       "      <td>2.50</td>\n",
       "    </tr>\n",
       "    <tr>\n",
       "      <th>75%</th>\n",
       "      <td>20942.75</td>\n",
       "      <td>15.64</td>\n",
       "      <td>313.25</td>\n",
       "      <td>41.08</td>\n",
       "      <td>0.05</td>\n",
       "      <td>175.68</td>\n",
       "      <td>2.81</td>\n",
       "    </tr>\n",
       "    <tr>\n",
       "      <th>max</th>\n",
       "      <td>24944.00</td>\n",
       "      <td>16.28</td>\n",
       "      <td>399.00</td>\n",
       "      <td>68.12</td>\n",
       "      <td>0.09</td>\n",
       "      <td>240.29</td>\n",
       "      <td>3.16</td>\n",
       "    </tr>\n",
       "  </tbody>\n",
       "</table>\n",
       "</div>"
      ],
      "text/plain": [
       "       NewVolSales  Base_Price  Radio   InStore  Discount     TV  Stout\n",
       "count       104.00      104.00  100.00   104.00    104.00 104.00 104.00\n",
       "mean      20171.07       15.31  256.69    32.92      0.02 141.01   2.55\n",
       "std        1578.60        0.53   86.99    13.68      0.03  42.95   0.31\n",
       "min       17431.00       13.74    0.00    10.78      0.00  37.66   1.82\n",
       "25%       19048.75       15.03  235.00    22.18      0.00 117.11   2.32\n",
       "50%       19943.50       15.33  278.50    31.16      0.00 138.58   2.50\n",
       "75%       20942.75       15.64  313.25    41.08      0.05 175.68   2.81\n",
       "max       24944.00       16.28  399.00    68.12      0.09 240.29   3.16"
      ]
     },
     "execution_count": 5,
     "metadata": {},
     "output_type": "execute_result"
    }
   ],
   "source": [
    "pd.options.display.float_format = '{:.2f}'.format\n",
    "data.describe()"
   ]
  },
  {
   "cell_type": "code",
   "execution_count": 6,
   "metadata": {},
   "outputs": [
    {
     "data": {
      "text/plain": [
       "Index(['NewVolSales', 'Base_Price', 'Radio ', 'InStore', 'Discount', 'TV',\n",
       "       'Stout'],\n",
       "      dtype='object')"
      ]
     },
     "execution_count": 6,
     "metadata": {},
     "output_type": "execute_result"
    }
   ],
   "source": [
    "data.columns"
   ]
  },
  {
   "cell_type": "code",
   "execution_count": 7,
   "metadata": {},
   "outputs": [
    {
     "data": {
      "text/plain": [
       "NewVolSales      int64\n",
       "Base_Price     float64\n",
       "Radio          float64\n",
       "InStore        float64\n",
       "Discount       float64\n",
       "TV             float64\n",
       "Stout          float64\n",
       "dtype: object"
      ]
     },
     "execution_count": 7,
     "metadata": {},
     "output_type": "execute_result"
    }
   ],
   "source": [
    "data.dtypes"
   ]
  },
  {
   "cell_type": "code",
   "execution_count": 8,
   "metadata": {},
   "outputs": [
    {
     "name": "stdout",
     "output_type": "stream",
     "text": [
      "count   104.00\n",
      "mean     15.31\n",
      "std       0.53\n",
      "min      13.74\n",
      "25%      15.03\n",
      "50%      15.33\n",
      "75%      15.64\n",
      "max      16.28\n",
      "Name: Base_Price, dtype: float64\n"
     ]
    }
   ],
   "source": [
    "print(data[\"Base_Price\"].describe())"
   ]
  },
  {
   "cell_type": "code",
   "execution_count": 9,
   "metadata": {},
   "outputs": [
    {
     "data": {
      "image/png": "[encoded data removed]",
      "text/plain": [
       "<Figure size 432x288 with 1 Axes>"
      ]
     },
     "metadata": {
      "needs_background": "light"
     },
     "output_type": "display_data"
    }
   ],
   "source": [
    "ax = data.plot.bar(y='Base_Price', rot=0)\n"
   ]
  },
  {
   "cell_type": "code",
   "execution_count": 10,
   "metadata": {},
   "outputs": [
    {
     "data": {
      "text/plain": [
       "0.00   13.74\n",
       "0.10   14.59\n",
       "0.20   14.97\n",
       "0.30   15.03\n",
       "0.40   15.18\n",
       "0.50   15.33\n",
       "0.60   15.49\n",
       "0.70   15.64\n",
       "0.80   15.80\n",
       "0.90   15.96\n",
       "Name: Base_Price, dtype: float64"
      ]
     },
     "execution_count": 10,
     "metadata": {},
     "output_type": "execute_result"
    }
   ],
   "source": [
    "data['Base_Price'].quantile(np.arange(0,1,0.1))"
   ]
  },
  {
   "cell_type": "code",
   "execution_count": 11,
   "metadata": {},
   "outputs": [],
   "source": [
    "q = data['Base_Price'].quantile(0.01)"
   ]
  },
  {
   "cell_type": "code",
   "execution_count": 12,
   "metadata": {},
   "outputs": [
    {
     "name": "stdout",
     "output_type": "stream",
     "text": [
      "13.8779529113\n"
     ]
    }
   ],
   "source": [
    "print(q)"
   ]
  },
  {
   "cell_type": "code",
   "execution_count": 13,
   "metadata": {},
   "outputs": [
    {
     "data": {
      "text/html": [
       "<div>\n",
       "<style scoped>\n",
       "    .dataframe tbody tr th:only-of-type {\n",
       "        vertical-align: middle;\n",
       "    }\n",
       "\n",
       "    .dataframe tbody tr th {\n",
       "        vertical-align: top;\n",
       "    }\n",
       "\n",
       "    .dataframe thead th {\n",
       "        text-align: right;\n",
       "    }\n",
       "</style>\n",
       "<table border=\"1\" class=\"dataframe\">\n",
       "  <thead>\n",
       "    <tr style=\"text-align: right;\">\n",
       "      <th></th>\n",
       "      <th>NewVolSales</th>\n",
       "      <th>Base_Price</th>\n",
       "      <th>Radio</th>\n",
       "      <th>InStore</th>\n",
       "      <th>Discount</th>\n",
       "      <th>TV</th>\n",
       "      <th>Stout</th>\n",
       "    </tr>\n",
       "  </thead>\n",
       "  <tbody>\n",
       "    <tr>\n",
       "      <th>74</th>\n",
       "      <td>24468</td>\n",
       "      <td>13.74</td>\n",
       "      <td>251.00</td>\n",
       "      <td>37.84</td>\n",
       "      <td>0.05</td>\n",
       "      <td>135.15</td>\n",
       "      <td>2.66</td>\n",
       "    </tr>\n",
       "    <tr>\n",
       "      <th>76</th>\n",
       "      <td>21710</td>\n",
       "      <td>13.87</td>\n",
       "      <td>261.00</td>\n",
       "      <td>34.22</td>\n",
       "      <td>0.00</td>\n",
       "      <td>148.71</td>\n",
       "      <td>2.98</td>\n",
       "    </tr>\n",
       "  </tbody>\n",
       "</table>\n",
       "</div>"
      ],
      "text/plain": [
       "    NewVolSales  Base_Price  Radio   InStore  Discount     TV  Stout\n",
       "74        24468       13.74  251.00    37.84      0.05 135.15   2.66\n",
       "76        21710       13.87  261.00    34.22      0.00 148.71   2.98"
      ]
     },
     "execution_count": 13,
     "metadata": {},
     "output_type": "execute_result"
    }
   ],
   "source": [
    "data[data.Base_Price < q]"
   ]
  },
  {
   "cell_type": "code",
   "execution_count": 14,
   "metadata": {},
   "outputs": [
    {
     "data": {
      "text/plain": [
       "15.306739735384603"
      ]
     },
     "execution_count": 14,
     "metadata": {},
     "output_type": "execute_result"
    }
   ],
   "source": [
    "avg =data['Base_Price'].mean()\n",
    "avg"
   ]
  },
  {
   "cell_type": "code",
   "execution_count": 15,
   "metadata": {},
   "outputs": [],
   "source": [
    "data.loc[(data[\"Base_Price\"]<q), 'Base_Price'] = avg"
   ]
  },
  {
   "cell_type": "code",
   "execution_count": 16,
   "metadata": {},
   "outputs": [
    {
     "data": {
      "text/plain": [
       "count   104.00\n",
       "mean     15.34\n",
       "std       0.48\n",
       "min      14.01\n",
       "25%      15.03\n",
       "50%      15.33\n",
       "75%      15.64\n",
       "max      16.28\n",
       "Name: Base_Price, dtype: float64"
      ]
     },
     "execution_count": 16,
     "metadata": {},
     "output_type": "execute_result"
    }
   ],
   "source": [
    "data['Base_Price'].describe()"
   ]
  },
  {
   "cell_type": "code",
   "execution_count": 17,
   "metadata": {},
   "outputs": [
    {
     "data": {
      "text/plain": [
       "count     104.00\n",
       "mean    20171.07\n",
       "std      1578.60\n",
       "min     17431.00\n",
       "25%     19048.75\n",
       "50%     19943.50\n",
       "75%     20942.75\n",
       "max     24944.00\n",
       "Name: NewVolSales, dtype: float64"
      ]
     },
     "execution_count": 17,
     "metadata": {},
     "output_type": "execute_result"
    }
   ],
   "source": [
    "data['NewVolSales'].describe()\n"
   ]
  },
  {
   "cell_type": "code",
   "execution_count": 18,
   "metadata": {},
   "outputs": [],
   "source": [
    "#new = data.loc[(data[\"NewVolSales\"]>20050.53)]\n",
    "#nl = list(new.index)\n",
    "#data.drop(nl,axis = 0)"
   ]
  },
  {
   "cell_type": "code",
   "execution_count": 19,
   "metadata": {},
   "outputs": [
    {
     "data": {
      "text/plain": [
       "count   100.00\n",
       "mean    256.69\n",
       "std      86.99\n",
       "min       0.00\n",
       "25%     235.00\n",
       "50%     278.50\n",
       "75%     313.25\n",
       "max     399.00\n",
       "Name: Radio , dtype: float64"
      ]
     },
     "execution_count": 19,
     "metadata": {},
     "output_type": "execute_result"
    }
   ],
   "source": [
    "data['Radio '].describe()"
   ]
  },
  {
   "cell_type": "code",
   "execution_count": 20,
   "metadata": {},
   "outputs": [],
   "source": [
    "R = data['Radio ']\n",
    "Rd = DataFrame(R)"
   ]
  },
  {
   "cell_type": "code",
   "execution_count": 21,
   "metadata": {},
   "outputs": [
    {
     "data": {
      "text/plain": [
       "pandas.core.series.Series"
      ]
     },
     "execution_count": 21,
     "metadata": {},
     "output_type": "execute_result"
    }
   ],
   "source": [
    "type(R)"
   ]
  },
  {
   "cell_type": "code",
   "execution_count": 22,
   "metadata": {},
   "outputs": [],
   "source": [
    "from sklearn.impute import SimpleImputer \n",
    "imp = SimpleImputer(missing_values=np.nan, strategy='mean')\n",
    "imp.fit(Rd)\n",
    "X = pd.DataFrame(data = imp.transform(Rd))"
   ]
  },
  {
   "cell_type": "code",
   "execution_count": 23,
   "metadata": {},
   "outputs": [],
   "source": [
    "data = pd.concat([data,X],axis = 1)"
   ]
  },
  {
   "cell_type": "code",
   "execution_count": 24,
   "metadata": {},
   "outputs": [
    {
     "data": {
      "text/html": [
       "<div>\n",
       "<style scoped>\n",
       "    .dataframe tbody tr th:only-of-type {\n",
       "        vertical-align: middle;\n",
       "    }\n",
       "\n",
       "    .dataframe tbody tr th {\n",
       "        vertical-align: top;\n",
       "    }\n",
       "\n",
       "    .dataframe thead th {\n",
       "        text-align: right;\n",
       "    }\n",
       "</style>\n",
       "<table border=\"1\" class=\"dataframe\">\n",
       "  <thead>\n",
       "    <tr style=\"text-align: right;\">\n",
       "      <th></th>\n",
       "      <th>NewVolSales</th>\n",
       "      <th>Base_Price</th>\n",
       "      <th>Radio</th>\n",
       "      <th>InStore</th>\n",
       "      <th>Discount</th>\n",
       "      <th>TV</th>\n",
       "      <th>Stout</th>\n",
       "      <th>0</th>\n",
       "    </tr>\n",
       "  </thead>\n",
       "  <tbody>\n",
       "    <tr>\n",
       "      <th>0</th>\n",
       "      <td>19564</td>\n",
       "      <td>15.03</td>\n",
       "      <td>245.00</td>\n",
       "      <td>15.45</td>\n",
       "      <td>0.00</td>\n",
       "      <td>101.78</td>\n",
       "      <td>2.28</td>\n",
       "      <td>245.00</td>\n",
       "    </tr>\n",
       "    <tr>\n",
       "      <th>1</th>\n",
       "      <td>19387</td>\n",
       "      <td>15.03</td>\n",
       "      <td>314.00</td>\n",
       "      <td>16.39</td>\n",
       "      <td>0.00</td>\n",
       "      <td>76.73</td>\n",
       "      <td>2.22</td>\n",
       "      <td>314.00</td>\n",
       "    </tr>\n",
       "    <tr>\n",
       "      <th>2</th>\n",
       "      <td>23889</td>\n",
       "      <td>14.59</td>\n",
       "      <td>324.00</td>\n",
       "      <td>62.69</td>\n",
       "      <td>0.05</td>\n",
       "      <td>131.59</td>\n",
       "      <td>2.01</td>\n",
       "      <td>324.00</td>\n",
       "    </tr>\n",
       "    <tr>\n",
       "      <th>3</th>\n",
       "      <td>20055</td>\n",
       "      <td>15.33</td>\n",
       "      <td>298.00</td>\n",
       "      <td>16.57</td>\n",
       "      <td>0.00</td>\n",
       "      <td>119.63</td>\n",
       "      <td>2.20</td>\n",
       "      <td>298.00</td>\n",
       "    </tr>\n",
       "    <tr>\n",
       "      <th>4</th>\n",
       "      <td>20064</td>\n",
       "      <td>15.64</td>\n",
       "      <td>279.00</td>\n",
       "      <td>41.50</td>\n",
       "      <td>0.04</td>\n",
       "      <td>103.44</td>\n",
       "      <td>1.82</td>\n",
       "      <td>279.00</td>\n",
       "    </tr>\n",
       "  </tbody>\n",
       "</table>\n",
       "</div>"
      ],
      "text/plain": [
       "   NewVolSales  Base_Price  Radio   InStore  Discount     TV  Stout      0\n",
       "0        19564       15.03  245.00    15.45      0.00 101.78   2.28 245.00\n",
       "1        19387       15.03  314.00    16.39      0.00  76.73   2.22 314.00\n",
       "2        23889       14.59  324.00    62.69      0.05 131.59   2.01 324.00\n",
       "3        20055       15.33  298.00    16.57      0.00 119.63   2.20 298.00\n",
       "4        20064       15.64  279.00    41.50      0.04 103.44   1.82 279.00"
      ]
     },
     "execution_count": 24,
     "metadata": {},
     "output_type": "execute_result"
    }
   ],
   "source": [
    "data.head()"
   ]
  },
  {
   "cell_type": "code",
   "execution_count": 25,
   "metadata": {},
   "outputs": [
    {
     "data": {
      "text/html": [
       "<div>\n",
       "<style scoped>\n",
       "    .dataframe tbody tr th:only-of-type {\n",
       "        vertical-align: middle;\n",
       "    }\n",
       "\n",
       "    .dataframe tbody tr th {\n",
       "        vertical-align: top;\n",
       "    }\n",
       "\n",
       "    .dataframe thead th {\n",
       "        text-align: right;\n",
       "    }\n",
       "</style>\n",
       "<table border=\"1\" class=\"dataframe\">\n",
       "  <thead>\n",
       "    <tr style=\"text-align: right;\">\n",
       "      <th></th>\n",
       "      <th>NewVolSales</th>\n",
       "      <th>Base_Price</th>\n",
       "      <th>Radio</th>\n",
       "      <th>InStore</th>\n",
       "      <th>Discount</th>\n",
       "      <th>TV</th>\n",
       "      <th>Stout</th>\n",
       "      <th>NRadio</th>\n",
       "    </tr>\n",
       "  </thead>\n",
       "  <tbody>\n",
       "    <tr>\n",
       "      <th>0</th>\n",
       "      <td>19564</td>\n",
       "      <td>15.03</td>\n",
       "      <td>245.00</td>\n",
       "      <td>15.45</td>\n",
       "      <td>0.00</td>\n",
       "      <td>101.78</td>\n",
       "      <td>2.28</td>\n",
       "      <td>245.00</td>\n",
       "    </tr>\n",
       "    <tr>\n",
       "      <th>1</th>\n",
       "      <td>19387</td>\n",
       "      <td>15.03</td>\n",
       "      <td>314.00</td>\n",
       "      <td>16.39</td>\n",
       "      <td>0.00</td>\n",
       "      <td>76.73</td>\n",
       "      <td>2.22</td>\n",
       "      <td>314.00</td>\n",
       "    </tr>\n",
       "    <tr>\n",
       "      <th>2</th>\n",
       "      <td>23889</td>\n",
       "      <td>14.59</td>\n",
       "      <td>324.00</td>\n",
       "      <td>62.69</td>\n",
       "      <td>0.05</td>\n",
       "      <td>131.59</td>\n",
       "      <td>2.01</td>\n",
       "      <td>324.00</td>\n",
       "    </tr>\n",
       "    <tr>\n",
       "      <th>3</th>\n",
       "      <td>20055</td>\n",
       "      <td>15.33</td>\n",
       "      <td>298.00</td>\n",
       "      <td>16.57</td>\n",
       "      <td>0.00</td>\n",
       "      <td>119.63</td>\n",
       "      <td>2.20</td>\n",
       "      <td>298.00</td>\n",
       "    </tr>\n",
       "    <tr>\n",
       "      <th>4</th>\n",
       "      <td>20064</td>\n",
       "      <td>15.64</td>\n",
       "      <td>279.00</td>\n",
       "      <td>41.50</td>\n",
       "      <td>0.04</td>\n",
       "      <td>103.44</td>\n",
       "      <td>1.82</td>\n",
       "      <td>279.00</td>\n",
       "    </tr>\n",
       "  </tbody>\n",
       "</table>\n",
       "</div>"
      ],
      "text/plain": [
       "   NewVolSales  Base_Price  Radio   InStore  Discount     TV  Stout  NRadio\n",
       "0        19564       15.03  245.00    15.45      0.00 101.78   2.28  245.00\n",
       "1        19387       15.03  314.00    16.39      0.00  76.73   2.22  314.00\n",
       "2        23889       14.59  324.00    62.69      0.05 131.59   2.01  324.00\n",
       "3        20055       15.33  298.00    16.57      0.00 119.63   2.20  298.00\n",
       "4        20064       15.64  279.00    41.50      0.04 103.44   1.82  279.00"
      ]
     },
     "execution_count": 25,
     "metadata": {},
     "output_type": "execute_result"
    }
   ],
   "source": [
    "data.rename(columns={0:\"NRadio\"}, inplace=True)\n",
    "data.head()"
   ]
  },
  {
   "cell_type": "code",
   "execution_count": 26,
   "metadata": {},
   "outputs": [],
   "source": [
    "#df.drop('Radio', axis=1, inplace=True)"
   ]
  },
  {
   "cell_type": "code",
   "execution_count": 27,
   "metadata": {},
   "outputs": [
    {
     "data": {
      "text/plain": [
       "4"
      ]
     },
     "execution_count": 27,
     "metadata": {},
     "output_type": "execute_result"
    }
   ],
   "source": [
    "#Another way\n",
    "data['Radio '].isnull().sum()"
   ]
  },
  {
   "cell_type": "code",
   "execution_count": 28,
   "metadata": {},
   "outputs": [],
   "source": [
    "# Replace Missing values \n",
    "data['Radio']=data['Radio '].fillna(data['Radio '].mean())\n"
   ]
  },
  {
   "cell_type": "code",
   "execution_count": 29,
   "metadata": {},
   "outputs": [
    {
     "data": {
      "text/html": [
       "<div>\n",
       "<style scoped>\n",
       "    .dataframe tbody tr th:only-of-type {\n",
       "        vertical-align: middle;\n",
       "    }\n",
       "\n",
       "    .dataframe tbody tr th {\n",
       "        vertical-align: top;\n",
       "    }\n",
       "\n",
       "    .dataframe thead th {\n",
       "        text-align: right;\n",
       "    }\n",
       "</style>\n",
       "<table border=\"1\" class=\"dataframe\">\n",
       "  <thead>\n",
       "    <tr style=\"text-align: right;\">\n",
       "      <th></th>\n",
       "      <th>NewVolSales</th>\n",
       "      <th>Base_Price</th>\n",
       "      <th>Radio</th>\n",
       "      <th>InStore</th>\n",
       "      <th>Discount</th>\n",
       "      <th>TV</th>\n",
       "      <th>Stout</th>\n",
       "      <th>NRadio</th>\n",
       "      <th>Radio</th>\n",
       "    </tr>\n",
       "  </thead>\n",
       "  <tbody>\n",
       "    <tr>\n",
       "      <th>0</th>\n",
       "      <td>19564</td>\n",
       "      <td>15.03</td>\n",
       "      <td>245.00</td>\n",
       "      <td>15.45</td>\n",
       "      <td>0.00</td>\n",
       "      <td>101.78</td>\n",
       "      <td>2.28</td>\n",
       "      <td>245.00</td>\n",
       "      <td>245.00</td>\n",
       "    </tr>\n",
       "    <tr>\n",
       "      <th>1</th>\n",
       "      <td>19387</td>\n",
       "      <td>15.03</td>\n",
       "      <td>314.00</td>\n",
       "      <td>16.39</td>\n",
       "      <td>0.00</td>\n",
       "      <td>76.73</td>\n",
       "      <td>2.22</td>\n",
       "      <td>314.00</td>\n",
       "      <td>314.00</td>\n",
       "    </tr>\n",
       "    <tr>\n",
       "      <th>2</th>\n",
       "      <td>23889</td>\n",
       "      <td>14.59</td>\n",
       "      <td>324.00</td>\n",
       "      <td>62.69</td>\n",
       "      <td>0.05</td>\n",
       "      <td>131.59</td>\n",
       "      <td>2.01</td>\n",
       "      <td>324.00</td>\n",
       "      <td>324.00</td>\n",
       "    </tr>\n",
       "    <tr>\n",
       "      <th>3</th>\n",
       "      <td>20055</td>\n",
       "      <td>15.33</td>\n",
       "      <td>298.00</td>\n",
       "      <td>16.57</td>\n",
       "      <td>0.00</td>\n",
       "      <td>119.63</td>\n",
       "      <td>2.20</td>\n",
       "      <td>298.00</td>\n",
       "      <td>298.00</td>\n",
       "    </tr>\n",
       "    <tr>\n",
       "      <th>4</th>\n",
       "      <td>20064</td>\n",
       "      <td>15.64</td>\n",
       "      <td>279.00</td>\n",
       "      <td>41.50</td>\n",
       "      <td>0.04</td>\n",
       "      <td>103.44</td>\n",
       "      <td>1.82</td>\n",
       "      <td>279.00</td>\n",
       "      <td>279.00</td>\n",
       "    </tr>\n",
       "    <tr>\n",
       "      <th>...</th>\n",
       "      <td>...</td>\n",
       "      <td>...</td>\n",
       "      <td>...</td>\n",
       "      <td>...</td>\n",
       "      <td>...</td>\n",
       "      <td>...</td>\n",
       "      <td>...</td>\n",
       "      <td>...</td>\n",
       "      <td>...</td>\n",
       "    </tr>\n",
       "    <tr>\n",
       "      <th>99</th>\n",
       "      <td>18335</td>\n",
       "      <td>15.96</td>\n",
       "      <td>292.00</td>\n",
       "      <td>29.48</td>\n",
       "      <td>0.00</td>\n",
       "      <td>71.61</td>\n",
       "      <td>3.09</td>\n",
       "      <td>292.00</td>\n",
       "      <td>292.00</td>\n",
       "    </tr>\n",
       "    <tr>\n",
       "      <th>100</th>\n",
       "      <td>19054</td>\n",
       "      <td>15.64</td>\n",
       "      <td>NaN</td>\n",
       "      <td>48.61</td>\n",
       "      <td>0.05</td>\n",
       "      <td>135.09</td>\n",
       "      <td>2.66</td>\n",
       "      <td>256.69</td>\n",
       "      <td>256.69</td>\n",
       "    </tr>\n",
       "    <tr>\n",
       "      <th>101</th>\n",
       "      <td>18198</td>\n",
       "      <td>15.96</td>\n",
       "      <td>NaN</td>\n",
       "      <td>29.32</td>\n",
       "      <td>0.04</td>\n",
       "      <td>176.96</td>\n",
       "      <td>2.93</td>\n",
       "      <td>256.69</td>\n",
       "      <td>256.69</td>\n",
       "    </tr>\n",
       "    <tr>\n",
       "      <th>102</th>\n",
       "      <td>20495</td>\n",
       "      <td>15.64</td>\n",
       "      <td>NaN</td>\n",
       "      <td>50.94</td>\n",
       "      <td>0.06</td>\n",
       "      <td>164.53</td>\n",
       "      <td>2.54</td>\n",
       "      <td>256.69</td>\n",
       "      <td>256.69</td>\n",
       "    </tr>\n",
       "    <tr>\n",
       "      <th>103</th>\n",
       "      <td>18169</td>\n",
       "      <td>16.28</td>\n",
       "      <td>NaN</td>\n",
       "      <td>46.17</td>\n",
       "      <td>0.06</td>\n",
       "      <td>162.13</td>\n",
       "      <td>2.67</td>\n",
       "      <td>256.69</td>\n",
       "      <td>256.69</td>\n",
       "    </tr>\n",
       "  </tbody>\n",
       "</table>\n",
       "<p>104 rows × 9 columns</p>\n",
       "</div>"
      ],
      "text/plain": [
       "     NewVolSales  Base_Price  Radio   InStore  Discount     TV  Stout  NRadio  \\\n",
       "0          19564       15.03  245.00    15.45      0.00 101.78   2.28  245.00   \n",
       "1          19387       15.03  314.00    16.39      0.00  76.73   2.22  314.00   \n",
       "2          23889       14.59  324.00    62.69      0.05 131.59   2.01  324.00   \n",
       "3          20055       15.33  298.00    16.57      0.00 119.63   2.20  298.00   \n",
       "4          20064       15.64  279.00    41.50      0.04 103.44   1.82  279.00   \n",
       "..           ...         ...     ...      ...       ...    ...    ...     ...   \n",
       "99         18335       15.96  292.00    29.48      0.00  71.61   3.09  292.00   \n",
       "100        19054       15.64     NaN    48.61      0.05 135.09   2.66  256.69   \n",
       "101        18198       15.96     NaN    29.32      0.04 176.96   2.93  256.69   \n",
       "102        20495       15.64     NaN    50.94      0.06 164.53   2.54  256.69   \n",
       "103        18169       16.28     NaN    46.17      0.06 162.13   2.67  256.69   \n",
       "\n",
       "     Radio  \n",
       "0   245.00  \n",
       "1   314.00  \n",
       "2   324.00  \n",
       "3   298.00  \n",
       "4   279.00  \n",
       "..     ...  \n",
       "99  292.00  \n",
       "100 256.69  \n",
       "101 256.69  \n",
       "102 256.69  \n",
       "103 256.69  \n",
       "\n",
       "[104 rows x 9 columns]"
      ]
     },
     "execution_count": 29,
     "metadata": {},
     "output_type": "execute_result"
    }
   ],
   "source": [
    "data"
   ]
  },
  {
   "cell_type": "code",
   "execution_count": 30,
   "metadata": {},
   "outputs": [
    {
     "data": {
      "text/plain": [
       "count   104.00\n",
       "mean    256.69\n",
       "std      85.29\n",
       "min       0.00\n",
       "25%     235.75\n",
       "50%     276.00\n",
       "75%     312.25\n",
       "max     399.00\n",
       "Name: Radio, dtype: float64"
      ]
     },
     "execution_count": 30,
     "metadata": {},
     "output_type": "execute_result"
    }
   ],
   "source": [
    "data['Radio'].describe()"
   ]
  },
  {
   "cell_type": "code",
   "execution_count": 31,
   "metadata": {},
   "outputs": [
    {
     "data": {
      "text/html": [
       "<div>\n",
       "<style scoped>\n",
       "    .dataframe tbody tr th:only-of-type {\n",
       "        vertical-align: middle;\n",
       "    }\n",
       "\n",
       "    .dataframe tbody tr th {\n",
       "        vertical-align: top;\n",
       "    }\n",
       "\n",
       "    .dataframe thead th {\n",
       "        text-align: right;\n",
       "    }\n",
       "</style>\n",
       "<table border=\"1\" class=\"dataframe\">\n",
       "  <thead>\n",
       "    <tr style=\"text-align: right;\">\n",
       "      <th></th>\n",
       "      <th>NewVolSales</th>\n",
       "      <th>Base_Price</th>\n",
       "      <th>Radio</th>\n",
       "      <th>InStore</th>\n",
       "      <th>Discount</th>\n",
       "      <th>TV</th>\n",
       "      <th>Stout</th>\n",
       "      <th>NRadio</th>\n",
       "      <th>Radio</th>\n",
       "    </tr>\n",
       "  </thead>\n",
       "  <tbody>\n",
       "    <tr>\n",
       "      <th>0</th>\n",
       "      <td>19564</td>\n",
       "      <td>15.03</td>\n",
       "      <td>245.00</td>\n",
       "      <td>15.45</td>\n",
       "      <td>0.00</td>\n",
       "      <td>101.78</td>\n",
       "      <td>2.28</td>\n",
       "      <td>245.00</td>\n",
       "      <td>245.00</td>\n",
       "    </tr>\n",
       "    <tr>\n",
       "      <th>1</th>\n",
       "      <td>19387</td>\n",
       "      <td>15.03</td>\n",
       "      <td>314.00</td>\n",
       "      <td>16.39</td>\n",
       "      <td>0.00</td>\n",
       "      <td>76.73</td>\n",
       "      <td>2.22</td>\n",
       "      <td>314.00</td>\n",
       "      <td>314.00</td>\n",
       "    </tr>\n",
       "    <tr>\n",
       "      <th>2</th>\n",
       "      <td>23889</td>\n",
       "      <td>14.59</td>\n",
       "      <td>324.00</td>\n",
       "      <td>62.69</td>\n",
       "      <td>0.05</td>\n",
       "      <td>131.59</td>\n",
       "      <td>2.01</td>\n",
       "      <td>324.00</td>\n",
       "      <td>324.00</td>\n",
       "    </tr>\n",
       "    <tr>\n",
       "      <th>3</th>\n",
       "      <td>20055</td>\n",
       "      <td>15.33</td>\n",
       "      <td>298.00</td>\n",
       "      <td>16.57</td>\n",
       "      <td>0.00</td>\n",
       "      <td>119.63</td>\n",
       "      <td>2.20</td>\n",
       "      <td>298.00</td>\n",
       "      <td>298.00</td>\n",
       "    </tr>\n",
       "    <tr>\n",
       "      <th>4</th>\n",
       "      <td>20064</td>\n",
       "      <td>15.64</td>\n",
       "      <td>279.00</td>\n",
       "      <td>41.50</td>\n",
       "      <td>0.04</td>\n",
       "      <td>103.44</td>\n",
       "      <td>1.82</td>\n",
       "      <td>279.00</td>\n",
       "      <td>279.00</td>\n",
       "    </tr>\n",
       "    <tr>\n",
       "      <th>...</th>\n",
       "      <td>...</td>\n",
       "      <td>...</td>\n",
       "      <td>...</td>\n",
       "      <td>...</td>\n",
       "      <td>...</td>\n",
       "      <td>...</td>\n",
       "      <td>...</td>\n",
       "      <td>...</td>\n",
       "      <td>...</td>\n",
       "    </tr>\n",
       "    <tr>\n",
       "      <th>99</th>\n",
       "      <td>18335</td>\n",
       "      <td>15.96</td>\n",
       "      <td>292.00</td>\n",
       "      <td>29.48</td>\n",
       "      <td>0.00</td>\n",
       "      <td>71.61</td>\n",
       "      <td>3.09</td>\n",
       "      <td>292.00</td>\n",
       "      <td>292.00</td>\n",
       "    </tr>\n",
       "    <tr>\n",
       "      <th>100</th>\n",
       "      <td>19054</td>\n",
       "      <td>15.64</td>\n",
       "      <td>NaN</td>\n",
       "      <td>48.61</td>\n",
       "      <td>0.05</td>\n",
       "      <td>135.09</td>\n",
       "      <td>2.66</td>\n",
       "      <td>256.69</td>\n",
       "      <td>256.69</td>\n",
       "    </tr>\n",
       "    <tr>\n",
       "      <th>101</th>\n",
       "      <td>18198</td>\n",
       "      <td>15.96</td>\n",
       "      <td>NaN</td>\n",
       "      <td>29.32</td>\n",
       "      <td>0.04</td>\n",
       "      <td>176.96</td>\n",
       "      <td>2.93</td>\n",
       "      <td>256.69</td>\n",
       "      <td>256.69</td>\n",
       "    </tr>\n",
       "    <tr>\n",
       "      <th>102</th>\n",
       "      <td>20495</td>\n",
       "      <td>15.64</td>\n",
       "      <td>NaN</td>\n",
       "      <td>50.94</td>\n",
       "      <td>0.06</td>\n",
       "      <td>164.53</td>\n",
       "      <td>2.54</td>\n",
       "      <td>256.69</td>\n",
       "      <td>256.69</td>\n",
       "    </tr>\n",
       "    <tr>\n",
       "      <th>103</th>\n",
       "      <td>18169</td>\n",
       "      <td>16.28</td>\n",
       "      <td>NaN</td>\n",
       "      <td>46.17</td>\n",
       "      <td>0.06</td>\n",
       "      <td>162.13</td>\n",
       "      <td>2.67</td>\n",
       "      <td>256.69</td>\n",
       "      <td>256.69</td>\n",
       "    </tr>\n",
       "  </tbody>\n",
       "</table>\n",
       "<p>104 rows × 9 columns</p>\n",
       "</div>"
      ],
      "text/plain": [
       "     NewVolSales  Base_Price  Radio   InStore  Discount     TV  Stout  NRadio  \\\n",
       "0          19564       15.03  245.00    15.45      0.00 101.78   2.28  245.00   \n",
       "1          19387       15.03  314.00    16.39      0.00  76.73   2.22  314.00   \n",
       "2          23889       14.59  324.00    62.69      0.05 131.59   2.01  324.00   \n",
       "3          20055       15.33  298.00    16.57      0.00 119.63   2.20  298.00   \n",
       "4          20064       15.64  279.00    41.50      0.04 103.44   1.82  279.00   \n",
       "..           ...         ...     ...      ...       ...    ...    ...     ...   \n",
       "99         18335       15.96  292.00    29.48      0.00  71.61   3.09  292.00   \n",
       "100        19054       15.64     NaN    48.61      0.05 135.09   2.66  256.69   \n",
       "101        18198       15.96     NaN    29.32      0.04 176.96   2.93  256.69   \n",
       "102        20495       15.64     NaN    50.94      0.06 164.53   2.54  256.69   \n",
       "103        18169       16.28     NaN    46.17      0.06 162.13   2.67  256.69   \n",
       "\n",
       "     Radio  \n",
       "0   245.00  \n",
       "1   314.00  \n",
       "2   324.00  \n",
       "3   298.00  \n",
       "4   279.00  \n",
       "..     ...  \n",
       "99  292.00  \n",
       "100 256.69  \n",
       "101 256.69  \n",
       "102 256.69  \n",
       "103 256.69  \n",
       "\n",
       "[104 rows x 9 columns]"
      ]
     },
     "execution_count": 31,
     "metadata": {},
     "output_type": "execute_result"
    }
   ],
   "source": [
    "data"
   ]
  },
  {
   "cell_type": "code",
   "execution_count": 32,
   "metadata": {},
   "outputs": [],
   "source": [
    "#Visualization"
   ]
  },
  {
   "cell_type": "code",
   "execution_count": 33,
   "metadata": {},
   "outputs": [
    {
     "data": {
      "text/plain": [
       "<AxesSubplot:xlabel='NewVolSales', ylabel='Base_Price'>"
      ]
     },
     "execution_count": 33,
     "metadata": {},
     "output_type": "execute_result"
    },
    {
     "data": {
      "image/png": "[encoded data removed]",
      "text/plain": [
       "<Figure size 432x288 with 1 Axes>"
      ]
     },
     "metadata": {
      "needs_background": "light"
     },
     "output_type": "display_data"
    }
   ],
   "source": [
    "# Base Price\n",
    "data.plot(x=\"NewVolSales\",y=\"Base_Price\",kind=\"scatter\")"
   ]
  },
  {
   "cell_type": "code",
   "execution_count": 34,
   "metadata": {},
   "outputs": [
    {
     "data": {
      "text/plain": [
       "<AxesSubplot:xlabel='NewVolSales', ylabel='Radio'>"
      ]
     },
     "execution_count": 34,
     "metadata": {},
     "output_type": "execute_result"
    },
    {
     "data": {
      "image/png": "[encoded data removed]",
      "text/plain": [
       "<Figure size 432x288 with 1 Axes>"
      ]
     },
     "metadata": {
      "needs_background": "light"
     },
     "output_type": "display_data"
    }
   ],
   "source": [
    "#Radio\n",
    "data.plot(x=\"NewVolSales\",y=\"Radio\",kind=\"scatter\")"
   ]
  },
  {
   "cell_type": "code",
   "execution_count": 35,
   "metadata": {},
   "outputs": [
    {
     "data": {
      "text/html": [
       "<div>\n",
       "<style scoped>\n",
       "    .dataframe tbody tr th:only-of-type {\n",
       "        vertical-align: middle;\n",
       "    }\n",
       "\n",
       "    .dataframe tbody tr th {\n",
       "        vertical-align: top;\n",
       "    }\n",
       "\n",
       "    .dataframe thead th {\n",
       "        text-align: right;\n",
       "    }\n",
       "</style>\n",
       "<table border=\"1\" class=\"dataframe\">\n",
       "  <thead>\n",
       "    <tr style=\"text-align: right;\">\n",
       "      <th></th>\n",
       "      <th>NewVolSales</th>\n",
       "      <th>Base_Price</th>\n",
       "      <th>Radio</th>\n",
       "      <th>InStore</th>\n",
       "      <th>Discount</th>\n",
       "      <th>TV</th>\n",
       "      <th>Stout</th>\n",
       "      <th>NRadio</th>\n",
       "      <th>Radio</th>\n",
       "    </tr>\n",
       "  </thead>\n",
       "  <tbody>\n",
       "    <tr>\n",
       "      <th>NewVolSales</th>\n",
       "      <td>1.00</td>\n",
       "      <td>-0.68</td>\n",
       "      <td>0.05</td>\n",
       "      <td>0.44</td>\n",
       "      <td>0.42</td>\n",
       "      <td>0.15</td>\n",
       "      <td>-0.38</td>\n",
       "      <td>0.05</td>\n",
       "      <td>0.05</td>\n",
       "    </tr>\n",
       "    <tr>\n",
       "      <th>Base_Price</th>\n",
       "      <td>-0.68</td>\n",
       "      <td>1.00</td>\n",
       "      <td>-0.00</td>\n",
       "      <td>-0.24</td>\n",
       "      <td>-0.20</td>\n",
       "      <td>0.07</td>\n",
       "      <td>0.02</td>\n",
       "      <td>-0.00</td>\n",
       "      <td>-0.00</td>\n",
       "    </tr>\n",
       "    <tr>\n",
       "      <th>Radio</th>\n",
       "      <td>0.05</td>\n",
       "      <td>-0.00</td>\n",
       "      <td>1.00</td>\n",
       "      <td>-0.02</td>\n",
       "      <td>0.12</td>\n",
       "      <td>-0.06</td>\n",
       "      <td>-0.19</td>\n",
       "      <td>1.00</td>\n",
       "      <td>1.00</td>\n",
       "    </tr>\n",
       "    <tr>\n",
       "      <th>InStore</th>\n",
       "      <td>0.44</td>\n",
       "      <td>-0.24</td>\n",
       "      <td>-0.02</td>\n",
       "      <td>1.00</td>\n",
       "      <td>0.72</td>\n",
       "      <td>-0.02</td>\n",
       "      <td>0.03</td>\n",
       "      <td>-0.02</td>\n",
       "      <td>-0.02</td>\n",
       "    </tr>\n",
       "    <tr>\n",
       "      <th>Discount</th>\n",
       "      <td>0.42</td>\n",
       "      <td>-0.20</td>\n",
       "      <td>0.12</td>\n",
       "      <td>0.72</td>\n",
       "      <td>1.00</td>\n",
       "      <td>0.12</td>\n",
       "      <td>-0.03</td>\n",
       "      <td>0.11</td>\n",
       "      <td>0.11</td>\n",
       "    </tr>\n",
       "    <tr>\n",
       "      <th>TV</th>\n",
       "      <td>0.15</td>\n",
       "      <td>0.07</td>\n",
       "      <td>-0.06</td>\n",
       "      <td>-0.02</td>\n",
       "      <td>0.12</td>\n",
       "      <td>1.00</td>\n",
       "      <td>-0.13</td>\n",
       "      <td>-0.06</td>\n",
       "      <td>-0.06</td>\n",
       "    </tr>\n",
       "    <tr>\n",
       "      <th>Stout</th>\n",
       "      <td>-0.38</td>\n",
       "      <td>0.02</td>\n",
       "      <td>-0.19</td>\n",
       "      <td>0.03</td>\n",
       "      <td>-0.03</td>\n",
       "      <td>-0.13</td>\n",
       "      <td>1.00</td>\n",
       "      <td>-0.19</td>\n",
       "      <td>-0.19</td>\n",
       "    </tr>\n",
       "    <tr>\n",
       "      <th>NRadio</th>\n",
       "      <td>0.05</td>\n",
       "      <td>-0.00</td>\n",
       "      <td>1.00</td>\n",
       "      <td>-0.02</td>\n",
       "      <td>0.11</td>\n",
       "      <td>-0.06</td>\n",
       "      <td>-0.19</td>\n",
       "      <td>1.00</td>\n",
       "      <td>1.00</td>\n",
       "    </tr>\n",
       "    <tr>\n",
       "      <th>Radio</th>\n",
       "      <td>0.05</td>\n",
       "      <td>-0.00</td>\n",
       "      <td>1.00</td>\n",
       "      <td>-0.02</td>\n",
       "      <td>0.11</td>\n",
       "      <td>-0.06</td>\n",
       "      <td>-0.19</td>\n",
       "      <td>1.00</td>\n",
       "      <td>1.00</td>\n",
       "    </tr>\n",
       "  </tbody>\n",
       "</table>\n",
       "</div>"
      ],
      "text/plain": [
       "             NewVolSales  Base_Price  Radio   InStore  Discount    TV  Stout  \\\n",
       "NewVolSales         1.00       -0.68    0.05     0.44      0.42  0.15  -0.38   \n",
       "Base_Price         -0.68        1.00   -0.00    -0.24     -0.20  0.07   0.02   \n",
       "Radio               0.05       -0.00    1.00    -0.02      0.12 -0.06  -0.19   \n",
       "InStore             0.44       -0.24   -0.02     1.00      0.72 -0.02   0.03   \n",
       "Discount            0.42       -0.20    0.12     0.72      1.00  0.12  -0.03   \n",
       "TV                  0.15        0.07   -0.06    -0.02      0.12  1.00  -0.13   \n",
       "Stout              -0.38        0.02   -0.19     0.03     -0.03 -0.13   1.00   \n",
       "NRadio              0.05       -0.00    1.00    -0.02      0.11 -0.06  -0.19   \n",
       "Radio               0.05       -0.00    1.00    -0.02      0.11 -0.06  -0.19   \n",
       "\n",
       "             NRadio  Radio  \n",
       "NewVolSales    0.05   0.05  \n",
       "Base_Price    -0.00  -0.00  \n",
       "Radio          1.00   1.00  \n",
       "InStore       -0.02  -0.02  \n",
       "Discount       0.11   0.11  \n",
       "TV            -0.06  -0.06  \n",
       "Stout         -0.19  -0.19  \n",
       "NRadio         1.00   1.00  \n",
       "Radio          1.00   1.00  "
      ]
     },
     "execution_count": 35,
     "metadata": {},
     "output_type": "execute_result"
    }
   ],
   "source": [
    "pd.options.display.float_format = '{:.2f}'.format\n",
    "data.corr()"
   ]
  },
  {
   "cell_type": "code",
   "execution_count": 36,
   "metadata": {},
   "outputs": [
    {
     "data": {
      "text/plain": [
       "<AxesSubplot:>"
      ]
     },
     "execution_count": 36,
     "metadata": {},
     "output_type": "execute_result"
    },
    {
     "data": {
      "image/png": "[encoded data removed]",
      "text/plain": [
       "<Figure size 432x288 with 2 Axes>"
      ]
     },
     "metadata": {
      "needs_background": "light"
     },
     "output_type": "display_data"
    }
   ],
   "source": [
    "import seaborn as sns\n",
    "corr = data.corr()\n",
    "sns.heatmap(corr, \n",
    "            xticklabels=corr.columns.values,\n",
    "            yticklabels=corr.columns.values)"
   ]
  },
  {
   "cell_type": "code",
   "execution_count": 37,
   "metadata": {},
   "outputs": [],
   "source": [
    "new = data.corr()\n",
    "new.to_csv('corr.csv', sep=',')"
   ]
  },
  {
   "cell_type": "code",
   "execution_count": 38,
   "metadata": {},
   "outputs": [],
   "source": [
    "data.rename(columns={'Website_Campaign ':'Website_Campaign'}, inplace=True)"
   ]
  },
  {
   "cell_type": "code",
   "execution_count": 39,
   "metadata": {},
   "outputs": [],
   "source": [
    "data.rename(columns={'TV ':\"TV\"}, inplace=True)"
   ]
  },
  {
   "cell_type": "code",
   "execution_count": 40,
   "metadata": {},
   "outputs": [
    {
     "data": {
      "text/html": [
       "<div>\n",
       "<style scoped>\n",
       "    .dataframe tbody tr th:only-of-type {\n",
       "        vertical-align: middle;\n",
       "    }\n",
       "\n",
       "    .dataframe tbody tr th {\n",
       "        vertical-align: top;\n",
       "    }\n",
       "\n",
       "    .dataframe thead th {\n",
       "        text-align: right;\n",
       "    }\n",
       "</style>\n",
       "<table border=\"1\" class=\"dataframe\">\n",
       "  <thead>\n",
       "    <tr style=\"text-align: right;\">\n",
       "      <th></th>\n",
       "      <th>NewVolSales</th>\n",
       "      <th>Base_Price</th>\n",
       "      <th>Radio</th>\n",
       "      <th>InStore</th>\n",
       "      <th>Discount</th>\n",
       "      <th>TV</th>\n",
       "      <th>Stout</th>\n",
       "      <th>NRadio</th>\n",
       "      <th>Radio</th>\n",
       "    </tr>\n",
       "  </thead>\n",
       "  <tbody>\n",
       "    <tr>\n",
       "      <th>0</th>\n",
       "      <td>19564</td>\n",
       "      <td>15.03</td>\n",
       "      <td>245.00</td>\n",
       "      <td>15.45</td>\n",
       "      <td>0.00</td>\n",
       "      <td>101.78</td>\n",
       "      <td>2.28</td>\n",
       "      <td>245.00</td>\n",
       "      <td>245.00</td>\n",
       "    </tr>\n",
       "    <tr>\n",
       "      <th>1</th>\n",
       "      <td>19387</td>\n",
       "      <td>15.03</td>\n",
       "      <td>314.00</td>\n",
       "      <td>16.39</td>\n",
       "      <td>0.00</td>\n",
       "      <td>76.73</td>\n",
       "      <td>2.22</td>\n",
       "      <td>314.00</td>\n",
       "      <td>314.00</td>\n",
       "    </tr>\n",
       "    <tr>\n",
       "      <th>2</th>\n",
       "      <td>23889</td>\n",
       "      <td>14.59</td>\n",
       "      <td>324.00</td>\n",
       "      <td>62.69</td>\n",
       "      <td>0.05</td>\n",
       "      <td>131.59</td>\n",
       "      <td>2.01</td>\n",
       "      <td>324.00</td>\n",
       "      <td>324.00</td>\n",
       "    </tr>\n",
       "    <tr>\n",
       "      <th>3</th>\n",
       "      <td>20055</td>\n",
       "      <td>15.33</td>\n",
       "      <td>298.00</td>\n",
       "      <td>16.57</td>\n",
       "      <td>0.00</td>\n",
       "      <td>119.63</td>\n",
       "      <td>2.20</td>\n",
       "      <td>298.00</td>\n",
       "      <td>298.00</td>\n",
       "    </tr>\n",
       "    <tr>\n",
       "      <th>4</th>\n",
       "      <td>20064</td>\n",
       "      <td>15.64</td>\n",
       "      <td>279.00</td>\n",
       "      <td>41.50</td>\n",
       "      <td>0.04</td>\n",
       "      <td>103.44</td>\n",
       "      <td>1.82</td>\n",
       "      <td>279.00</td>\n",
       "      <td>279.00</td>\n",
       "    </tr>\n",
       "    <tr>\n",
       "      <th>...</th>\n",
       "      <td>...</td>\n",
       "      <td>...</td>\n",
       "      <td>...</td>\n",
       "      <td>...</td>\n",
       "      <td>...</td>\n",
       "      <td>...</td>\n",
       "      <td>...</td>\n",
       "      <td>...</td>\n",
       "      <td>...</td>\n",
       "    </tr>\n",
       "    <tr>\n",
       "      <th>99</th>\n",
       "      <td>18335</td>\n",
       "      <td>15.96</td>\n",
       "      <td>292.00</td>\n",
       "      <td>29.48</td>\n",
       "      <td>0.00</td>\n",
       "      <td>71.61</td>\n",
       "      <td>3.09</td>\n",
       "      <td>292.00</td>\n",
       "      <td>292.00</td>\n",
       "    </tr>\n",
       "    <tr>\n",
       "      <th>100</th>\n",
       "      <td>19054</td>\n",
       "      <td>15.64</td>\n",
       "      <td>NaN</td>\n",
       "      <td>48.61</td>\n",
       "      <td>0.05</td>\n",
       "      <td>135.09</td>\n",
       "      <td>2.66</td>\n",
       "      <td>256.69</td>\n",
       "      <td>256.69</td>\n",
       "    </tr>\n",
       "    <tr>\n",
       "      <th>101</th>\n",
       "      <td>18198</td>\n",
       "      <td>15.96</td>\n",
       "      <td>NaN</td>\n",
       "      <td>29.32</td>\n",
       "      <td>0.04</td>\n",
       "      <td>176.96</td>\n",
       "      <td>2.93</td>\n",
       "      <td>256.69</td>\n",
       "      <td>256.69</td>\n",
       "    </tr>\n",
       "    <tr>\n",
       "      <th>102</th>\n",
       "      <td>20495</td>\n",
       "      <td>15.64</td>\n",
       "      <td>NaN</td>\n",
       "      <td>50.94</td>\n",
       "      <td>0.06</td>\n",
       "      <td>164.53</td>\n",
       "      <td>2.54</td>\n",
       "      <td>256.69</td>\n",
       "      <td>256.69</td>\n",
       "    </tr>\n",
       "    <tr>\n",
       "      <th>103</th>\n",
       "      <td>18169</td>\n",
       "      <td>16.28</td>\n",
       "      <td>NaN</td>\n",
       "      <td>46.17</td>\n",
       "      <td>0.06</td>\n",
       "      <td>162.13</td>\n",
       "      <td>2.67</td>\n",
       "      <td>256.69</td>\n",
       "      <td>256.69</td>\n",
       "    </tr>\n",
       "  </tbody>\n",
       "</table>\n",
       "<p>104 rows × 9 columns</p>\n",
       "</div>"
      ],
      "text/plain": [
       "     NewVolSales  Base_Price  Radio   InStore  Discount     TV  Stout  NRadio  \\\n",
       "0          19564       15.03  245.00    15.45      0.00 101.78   2.28  245.00   \n",
       "1          19387       15.03  314.00    16.39      0.00  76.73   2.22  314.00   \n",
       "2          23889       14.59  324.00    62.69      0.05 131.59   2.01  324.00   \n",
       "3          20055       15.33  298.00    16.57      0.00 119.63   2.20  298.00   \n",
       "4          20064       15.64  279.00    41.50      0.04 103.44   1.82  279.00   \n",
       "..           ...         ...     ...      ...       ...    ...    ...     ...   \n",
       "99         18335       15.96  292.00    29.48      0.00  71.61   3.09  292.00   \n",
       "100        19054       15.64     NaN    48.61      0.05 135.09   2.66  256.69   \n",
       "101        18198       15.96     NaN    29.32      0.04 176.96   2.93  256.69   \n",
       "102        20495       15.64     NaN    50.94      0.06 164.53   2.54  256.69   \n",
       "103        18169       16.28     NaN    46.17      0.06 162.13   2.67  256.69   \n",
       "\n",
       "     Radio  \n",
       "0   245.00  \n",
       "1   314.00  \n",
       "2   324.00  \n",
       "3   298.00  \n",
       "4   279.00  \n",
       "..     ...  \n",
       "99  292.00  \n",
       "100 256.69  \n",
       "101 256.69  \n",
       "102 256.69  \n",
       "103 256.69  \n",
       "\n",
       "[104 rows x 9 columns]"
      ]
     },
     "execution_count": 40,
     "metadata": {},
     "output_type": "execute_result"
    }
   ],
   "source": [
    "data"
   ]
  },
  {
   "cell_type": "code",
   "execution_count": 41,
   "metadata": {},
   "outputs": [],
   "source": [
    "data['log_sales'] = np.log(data.NewVolSales)\n"
   ]
  },
  {
   "cell_type": "code",
   "execution_count": 42,
   "metadata": {},
   "outputs": [],
   "source": [
    "# To see price as high, low, medium\n",
    "def d(x):\n",
    "    if x < 15:\n",
    "        return \"Low\"\n",
    "    elif 15< x < 15.33:\n",
    "        return \"Medium\"\n",
    "    else:\n",
    "        return \"High\"\n",
    "    "
   ]
  },
  {
   "cell_type": "code",
   "execution_count": 43,
   "metadata": {},
   "outputs": [],
   "source": [
    "#backet pice\n",
    "data['BKTPrice']=data['Base_Price'].map(d)"
   ]
  },
  {
   "cell_type": "code",
   "execution_count": 44,
   "metadata": {},
   "outputs": [
    {
     "data": {
      "text/html": [
       "<div>\n",
       "<style scoped>\n",
       "    .dataframe tbody tr th:only-of-type {\n",
       "        vertical-align: middle;\n",
       "    }\n",
       "\n",
       "    .dataframe tbody tr th {\n",
       "        vertical-align: top;\n",
       "    }\n",
       "\n",
       "    .dataframe thead th {\n",
       "        text-align: right;\n",
       "    }\n",
       "</style>\n",
       "<table border=\"1\" class=\"dataframe\">\n",
       "  <thead>\n",
       "    <tr style=\"text-align: right;\">\n",
       "      <th></th>\n",
       "      <th>NewVolSales</th>\n",
       "      <th>Base_Price</th>\n",
       "      <th>Radio</th>\n",
       "      <th>InStore</th>\n",
       "      <th>Discount</th>\n",
       "      <th>TV</th>\n",
       "      <th>Stout</th>\n",
       "      <th>NRadio</th>\n",
       "      <th>Radio</th>\n",
       "      <th>log_sales</th>\n",
       "      <th>BKTPrice</th>\n",
       "    </tr>\n",
       "  </thead>\n",
       "  <tbody>\n",
       "    <tr>\n",
       "      <th>0</th>\n",
       "      <td>19564</td>\n",
       "      <td>15.03</td>\n",
       "      <td>245.00</td>\n",
       "      <td>15.45</td>\n",
       "      <td>0.00</td>\n",
       "      <td>101.78</td>\n",
       "      <td>2.28</td>\n",
       "      <td>245.00</td>\n",
       "      <td>245.00</td>\n",
       "      <td>9.88</td>\n",
       "      <td>Medium</td>\n",
       "    </tr>\n",
       "    <tr>\n",
       "      <th>1</th>\n",
       "      <td>19387</td>\n",
       "      <td>15.03</td>\n",
       "      <td>314.00</td>\n",
       "      <td>16.39</td>\n",
       "      <td>0.00</td>\n",
       "      <td>76.73</td>\n",
       "      <td>2.22</td>\n",
       "      <td>314.00</td>\n",
       "      <td>314.00</td>\n",
       "      <td>9.87</td>\n",
       "      <td>Medium</td>\n",
       "    </tr>\n",
       "    <tr>\n",
       "      <th>2</th>\n",
       "      <td>23889</td>\n",
       "      <td>14.59</td>\n",
       "      <td>324.00</td>\n",
       "      <td>62.69</td>\n",
       "      <td>0.05</td>\n",
       "      <td>131.59</td>\n",
       "      <td>2.01</td>\n",
       "      <td>324.00</td>\n",
       "      <td>324.00</td>\n",
       "      <td>10.08</td>\n",
       "      <td>Low</td>\n",
       "    </tr>\n",
       "    <tr>\n",
       "      <th>3</th>\n",
       "      <td>20055</td>\n",
       "      <td>15.33</td>\n",
       "      <td>298.00</td>\n",
       "      <td>16.57</td>\n",
       "      <td>0.00</td>\n",
       "      <td>119.63</td>\n",
       "      <td>2.20</td>\n",
       "      <td>298.00</td>\n",
       "      <td>298.00</td>\n",
       "      <td>9.91</td>\n",
       "      <td>High</td>\n",
       "    </tr>\n",
       "    <tr>\n",
       "      <th>4</th>\n",
       "      <td>20064</td>\n",
       "      <td>15.64</td>\n",
       "      <td>279.00</td>\n",
       "      <td>41.50</td>\n",
       "      <td>0.04</td>\n",
       "      <td>103.44</td>\n",
       "      <td>1.82</td>\n",
       "      <td>279.00</td>\n",
       "      <td>279.00</td>\n",
       "      <td>9.91</td>\n",
       "      <td>High</td>\n",
       "    </tr>\n",
       "  </tbody>\n",
       "</table>\n",
       "</div>"
      ],
      "text/plain": [
       "   NewVolSales  Base_Price  Radio   InStore  Discount     TV  Stout  NRadio  \\\n",
       "0        19564       15.03  245.00    15.45      0.00 101.78   2.28  245.00   \n",
       "1        19387       15.03  314.00    16.39      0.00  76.73   2.22  314.00   \n",
       "2        23889       14.59  324.00    62.69      0.05 131.59   2.01  324.00   \n",
       "3        20055       15.33  298.00    16.57      0.00 119.63   2.20  298.00   \n",
       "4        20064       15.64  279.00    41.50      0.04 103.44   1.82  279.00   \n",
       "\n",
       "   Radio  log_sales BKTPrice  \n",
       "0 245.00       9.88   Medium  \n",
       "1 314.00       9.87   Medium  \n",
       "2 324.00      10.08      Low  \n",
       "3 298.00       9.91     High  \n",
       "4 279.00       9.91     High  "
      ]
     },
     "execution_count": 44,
     "metadata": {},
     "output_type": "execute_result"
    }
   ],
   "source": [
    "data.head()"
   ]
  },
  {
   "cell_type": "code",
   "execution_count": 45,
   "metadata": {},
   "outputs": [
    {
     "data": {
      "text/plain": [
       "High      60\n",
       "Medium    25\n",
       "Low       19\n",
       "Name: BKTPrice, dtype: int64"
      ]
     },
     "execution_count": 45,
     "metadata": {},
     "output_type": "execute_result"
    }
   ],
   "source": [
    "data['BKTPrice'].value_counts()"
   ]
  },
  {
   "cell_type": "raw",
   "metadata": {},
   "source": [
    "data = pd.get_dummies(data, columns=['NewVolSales'])"
   ]
  },
  {
   "cell_type": "raw",
   "metadata": {},
   "source": [
    "data = pd.get_dummies(data, columns=['Website_Campaign'])"
   ]
  },
  {
   "cell_type": "code",
   "execution_count": 46,
   "metadata": {},
   "outputs": [
    {
     "data": {
      "text/html": [
       "<div>\n",
       "<style scoped>\n",
       "    .dataframe tbody tr th:only-of-type {\n",
       "        vertical-align: middle;\n",
       "    }\n",
       "\n",
       "    .dataframe tbody tr th {\n",
       "        vertical-align: top;\n",
       "    }\n",
       "\n",
       "    .dataframe thead th {\n",
       "        text-align: right;\n",
       "    }\n",
       "</style>\n",
       "<table border=\"1\" class=\"dataframe\">\n",
       "  <thead>\n",
       "    <tr style=\"text-align: right;\">\n",
       "      <th></th>\n",
       "      <th>NewVolSales</th>\n",
       "      <th>Base_Price</th>\n",
       "      <th>Radio</th>\n",
       "      <th>InStore</th>\n",
       "      <th>Discount</th>\n",
       "      <th>TV</th>\n",
       "      <th>Stout</th>\n",
       "      <th>NRadio</th>\n",
       "      <th>Radio</th>\n",
       "      <th>log_sales</th>\n",
       "      <th>BKTPrice</th>\n",
       "    </tr>\n",
       "  </thead>\n",
       "  <tbody>\n",
       "    <tr>\n",
       "      <th>0</th>\n",
       "      <td>19564</td>\n",
       "      <td>15.03</td>\n",
       "      <td>245.00</td>\n",
       "      <td>15.45</td>\n",
       "      <td>0.00</td>\n",
       "      <td>101.78</td>\n",
       "      <td>2.28</td>\n",
       "      <td>245.00</td>\n",
       "      <td>245.00</td>\n",
       "      <td>9.88</td>\n",
       "      <td>Medium</td>\n",
       "    </tr>\n",
       "    <tr>\n",
       "      <th>1</th>\n",
       "      <td>19387</td>\n",
       "      <td>15.03</td>\n",
       "      <td>314.00</td>\n",
       "      <td>16.39</td>\n",
       "      <td>0.00</td>\n",
       "      <td>76.73</td>\n",
       "      <td>2.22</td>\n",
       "      <td>314.00</td>\n",
       "      <td>314.00</td>\n",
       "      <td>9.87</td>\n",
       "      <td>Medium</td>\n",
       "    </tr>\n",
       "    <tr>\n",
       "      <th>2</th>\n",
       "      <td>23889</td>\n",
       "      <td>14.59</td>\n",
       "      <td>324.00</td>\n",
       "      <td>62.69</td>\n",
       "      <td>0.05</td>\n",
       "      <td>131.59</td>\n",
       "      <td>2.01</td>\n",
       "      <td>324.00</td>\n",
       "      <td>324.00</td>\n",
       "      <td>10.08</td>\n",
       "      <td>Low</td>\n",
       "    </tr>\n",
       "    <tr>\n",
       "      <th>3</th>\n",
       "      <td>20055</td>\n",
       "      <td>15.33</td>\n",
       "      <td>298.00</td>\n",
       "      <td>16.57</td>\n",
       "      <td>0.00</td>\n",
       "      <td>119.63</td>\n",
       "      <td>2.20</td>\n",
       "      <td>298.00</td>\n",
       "      <td>298.00</td>\n",
       "      <td>9.91</td>\n",
       "      <td>High</td>\n",
       "    </tr>\n",
       "    <tr>\n",
       "      <th>4</th>\n",
       "      <td>20064</td>\n",
       "      <td>15.64</td>\n",
       "      <td>279.00</td>\n",
       "      <td>41.50</td>\n",
       "      <td>0.04</td>\n",
       "      <td>103.44</td>\n",
       "      <td>1.82</td>\n",
       "      <td>279.00</td>\n",
       "      <td>279.00</td>\n",
       "      <td>9.91</td>\n",
       "      <td>High</td>\n",
       "    </tr>\n",
       "  </tbody>\n",
       "</table>\n",
       "</div>"
      ],
      "text/plain": [
       "   NewVolSales  Base_Price  Radio   InStore  Discount     TV  Stout  NRadio  \\\n",
       "0        19564       15.03  245.00    15.45      0.00 101.78   2.28  245.00   \n",
       "1        19387       15.03  314.00    16.39      0.00  76.73   2.22  314.00   \n",
       "2        23889       14.59  324.00    62.69      0.05 131.59   2.01  324.00   \n",
       "3        20055       15.33  298.00    16.57      0.00 119.63   2.20  298.00   \n",
       "4        20064       15.64  279.00    41.50      0.04 103.44   1.82  279.00   \n",
       "\n",
       "   Radio  log_sales BKTPrice  \n",
       "0 245.00       9.88   Medium  \n",
       "1 314.00       9.87   Medium  \n",
       "2 324.00      10.08      Low  \n",
       "3 298.00       9.91     High  \n",
       "4 279.00       9.91     High  "
      ]
     },
     "execution_count": 46,
     "metadata": {},
     "output_type": "execute_result"
    }
   ],
   "source": [
    "data.head()"
   ]
  },
  {
   "cell_type": "code",
   "execution_count": 47,
   "metadata": {},
   "outputs": [
    {
     "data": {
      "text/plain": [
       "Index(['NewVolSales', 'Base_Price', 'Radio ', 'InStore', 'Discount', 'TV',\n",
       "       'Stout', 'NRadio', 'Radio', 'log_sales', 'BKTPrice'],\n",
       "      dtype='object')"
      ]
     },
     "execution_count": 47,
     "metadata": {},
     "output_type": "execute_result"
    }
   ],
   "source": [
    "data.columns"
   ]
  },
  {
   "cell_type": "raw",
   "metadata": {},
   "source": [
    "data['Online'] = data['Website_Campaign_Facebook']+ data['Website_Campaign_Twitter']+ data['Website_Campaign_Website Campaign ']"
   ]
  },
  {
   "cell_type": "code",
   "execution_count": 48,
   "metadata": {},
   "outputs": [
    {
     "data": {
      "text/plain": [
       "Index(['NewVolSales', 'Base_Price', 'Radio ', 'InStore', 'Discount', 'TV',\n",
       "       'Stout', 'NRadio', 'Radio', 'log_sales', 'BKTPrice', 'Offline'],\n",
       "      dtype='object')"
      ]
     },
     "execution_count": 48,
     "metadata": {},
     "output_type": "execute_result"
    }
   ],
   "source": [
    "data[\"Offline\"]=data['TV']+data['InStore']+ data['Radio']\n",
    "data.columns"
   ]
  },
  {
   "cell_type": "code",
   "execution_count": 49,
   "metadata": {},
   "outputs": [],
   "source": [
    "import statsmodels.formula.api as smf"
   ]
  },
  {
   "cell_type": "code",
   "execution_count": 74,
   "metadata": {},
   "outputs": [],
   "source": [
    "reg=smf.ols(\"NewVolSales~Base_Price+InStore+TV+Discount+Stout+Radio\",data=data)"
   ]
  },
  {
   "cell_type": "code",
   "execution_count": 75,
   "metadata": {},
   "outputs": [],
   "source": [
    "results=reg.fit()"
   ]
  },
  {
   "cell_type": "code",
   "execution_count": 76,
   "metadata": {},
   "outputs": [
    {
     "name": "stdout",
     "output_type": "stream",
     "text": [
      "                            OLS Regression Results                            \n",
      "==============================================================================\n",
      "Dep. Variable:            NewVolSales   R-squared:                       0.715\n",
      "Model:                            OLS   Adj. R-squared:                  0.697\n",
      "Method:                 Least Squares   F-statistic:                     40.47\n",
      "Date:                Sun, 13 Jun 2021   Prob (F-statistic):           2.55e-24\n",
      "Time:                        20:50:01   Log-Likelihood:                -847.76\n",
      "No. Observations:                 104   AIC:                             1710.\n",
      "Df Residuals:                      97   BIC:                             1728.\n",
      "Df Model:                           6                                         \n",
      "Covariance Type:            nonrobust                                         \n",
      "==============================================================================\n",
      "                 coef    std err          t      P>|t|      [0.025      0.975]\n",
      "------------------------------------------------------------------------------\n",
      "Intercept   5.351e+04   2949.081     18.144      0.000    4.77e+04    5.94e+04\n",
      "Base_Price -1978.3383    182.730    -10.827      0.000   -2341.006   -1615.671\n",
      "InStore       24.8817      9.292      2.678      0.009       6.440      43.323\n",
      "TV             4.8619      2.065      2.355      0.021       0.764       8.960\n",
      "Discount    7303.1239   4626.840      1.578      0.118   -1879.872    1.65e+04\n",
      "Stout      -1792.4955    284.133     -6.309      0.000   -2356.422   -1228.569\n",
      "Radio         -0.3957      1.045     -0.379      0.706      -2.470       1.679\n",
      "==============================================================================\n",
      "Omnibus:                       40.526   Durbin-Watson:                   1.634\n",
      "Prob(Omnibus):                  0.000   Jarque-Bera (JB):              125.805\n",
      "Skew:                           1.334   Prob(JB):                     4.81e-28\n",
      "Kurtosis:                       7.682   Cond. No.                     1.65e+04\n",
      "==============================================================================\n",
      "\n",
      "Notes:\n",
      "[1] Standard Errors assume that the covariance matrix of the errors is correctly specified.\n",
      "[2] The condition number is large, 1.65e+04. This might indicate that there are\n",
      "strong multicollinearity or other numerical problems.\n"
     ]
    }
   ],
   "source": [
    "print(results.summary())"
   ]
  },
  {
   "cell_type": "code",
   "execution_count": 53,
   "metadata": {},
   "outputs": [],
   "source": [
    "reg=smf.ols(\"NewVolSales~Base_Price+InStore+TV+Discount+Stout\",data=data)"
   ]
  },
  {
   "cell_type": "code",
   "execution_count": 77,
   "metadata": {},
   "outputs": [],
   "source": [
    "results=reg.fit()"
   ]
  },
  {
   "cell_type": "code",
   "execution_count": 78,
   "metadata": {
    "scrolled": true
   },
   "outputs": [
    {
     "name": "stdout",
     "output_type": "stream",
     "text": [
      "                            OLS Regression Results                            \n",
      "==============================================================================\n",
      "Dep. Variable:            NewVolSales   R-squared:                       0.715\n",
      "Model:                            OLS   Adj. R-squared:                  0.697\n",
      "Method:                 Least Squares   F-statistic:                     40.47\n",
      "Date:                Sun, 13 Jun 2021   Prob (F-statistic):           2.55e-24\n",
      "Time:                        20:50:07   Log-Likelihood:                -847.76\n",
      "No. Observations:                 104   AIC:                             1710.\n",
      "Df Residuals:                      97   BIC:                             1728.\n",
      "Df Model:                           6                                         \n",
      "Covariance Type:            nonrobust                                         \n",
      "==============================================================================\n",
      "                 coef    std err          t      P>|t|      [0.025      0.975]\n",
      "------------------------------------------------------------------------------\n",
      "Intercept   5.351e+04   2949.081     18.144      0.000    4.77e+04    5.94e+04\n",
      "Base_Price -1978.3383    182.730    -10.827      0.000   -2341.006   -1615.671\n",
      "InStore       24.8817      9.292      2.678      0.009       6.440      43.323\n",
      "TV             4.8619      2.065      2.355      0.021       0.764       8.960\n",
      "Discount    7303.1239   4626.840      1.578      0.118   -1879.872    1.65e+04\n",
      "Stout      -1792.4955    284.133     -6.309      0.000   -2356.422   -1228.569\n",
      "Radio         -0.3957      1.045     -0.379      0.706      -2.470       1.679\n",
      "==============================================================================\n",
      "Omnibus:                       40.526   Durbin-Watson:                   1.634\n",
      "Prob(Omnibus):                  0.000   Jarque-Bera (JB):              125.805\n",
      "Skew:                           1.334   Prob(JB):                     4.81e-28\n",
      "Kurtosis:                       7.682   Cond. No.                     1.65e+04\n",
      "==============================================================================\n",
      "\n",
      "Notes:\n",
      "[1] Standard Errors assume that the covariance matrix of the errors is correctly specified.\n",
      "[2] The condition number is large, 1.65e+04. This might indicate that there are\n",
      "strong multicollinearity or other numerical problems.\n"
     ]
    }
   ],
   "source": [
    "print(results.summary())"
   ]
  },
  {
   "cell_type": "code",
   "execution_count": 79,
   "metadata": {},
   "outputs": [],
   "source": [
    "predictions=results.predict(data)"
   ]
  },
  {
   "cell_type": "code",
   "execution_count": 80,
   "metadata": {},
   "outputs": [],
   "source": [
    "actuals=data['NewVolSales']"
   ]
  },
  {
   "cell_type": "code",
   "execution_count": 81,
   "metadata": {},
   "outputs": [
    {
     "data": {
      "text/plain": [
       "[<matplotlib.lines.Line2D at 0x22d552b1708>]"
      ]
     },
     "execution_count": 81,
     "metadata": {},
     "output_type": "execute_result"
    },
    {
     "data": {
      "image/png": "[encoded data removed]",
      "text/plain": [
       "<Figure size 432x288 with 1 Axes>"
      ]
     },
     "metadata": {
      "needs_background": "light"
     },
     "output_type": "display_data"
    }
   ],
   "source": [
    "## Actual vs Predicted plot\n",
    "plt.plot(actuals,\"b\")\n",
    "plt.plot(predictions,\"r\")"
   ]
  },
  {
   "cell_type": "code",
   "execution_count": 82,
   "metadata": {},
   "outputs": [
    {
     "data": {
      "text/plain": [
       "pandas.core.series.Series"
      ]
     },
     "execution_count": 82,
     "metadata": {},
     "output_type": "execute_result"
    }
   ],
   "source": [
    "residuals = results.resid\n",
    "type(residuals)"
   ]
  },
  {
   "cell_type": "code",
   "execution_count": 83,
   "metadata": {},
   "outputs": [],
   "source": [
    "residualsdf = DataFrame(residuals)\n",
    "residualsdf.rename(columns={0:\"res\"}, inplace=True)"
   ]
  },
  {
   "cell_type": "code",
   "execution_count": 84,
   "metadata": {},
   "outputs": [
    {
     "data": {
      "text/plain": [
       "([], [])"
      ]
     },
     "execution_count": 84,
     "metadata": {},
     "output_type": "execute_result"
    },
    {
     "data": {
      "image/png": "[encoded data removed]",
      "text/plain": [
       "<Figure size 432x288 with 1 Axes>"
      ]
     },
     "metadata": {
      "needs_background": "light"
     },
     "output_type": "display_data"
    }
   ],
   "source": [
    "\n",
    "plt.scatter(residualsdf, predictions) \n",
    "plt.xticks([])\n",
    "    "
   ]
  },
  {
   "cell_type": "code",
   "execution_count": 85,
   "metadata": {},
   "outputs": [],
   "source": [
    "import sklearn.metrics as metrics"
   ]
  },
  {
   "cell_type": "code",
   "execution_count": 86,
   "metadata": {},
   "outputs": [
    {
     "data": {
      "text/plain": [
       "607.8136086857818"
      ]
     },
     "execution_count": 86,
     "metadata": {},
     "output_type": "execute_result"
    }
   ],
   "source": [
    "## Mean Absolute error\n",
    "mae = metrics.mean_absolute_error(actuals,predictions)\n",
    "mae"
   ]
  },
  {
   "cell_type": "code",
   "execution_count": 87,
   "metadata": {},
   "outputs": [
    {
     "data": {
      "text/plain": [
       "0.02981679542167379"
      ]
     },
     "execution_count": 87,
     "metadata": {},
     "output_type": "execute_result"
    }
   ],
   "source": [
    "np.mean(abs((actuals - predictions)/actuals)) #MAPE"
   ]
  },
  {
   "cell_type": "code",
   "execution_count": 88,
   "metadata": {},
   "outputs": [],
   "source": [
    "#to design model we need patsy in Python\n",
    "from patsy import dmatrices"
   ]
  },
  {
   "cell_type": "code",
   "execution_count": 89,
   "metadata": {},
   "outputs": [],
   "source": [
    " y, X = dmatrices('NewVolSales~Base_Price+InStore+TV+Discount+Stout', \n",
    "                  data=data, return_type='dataframe')"
   ]
  },
  {
   "cell_type": "code",
   "execution_count": 90,
   "metadata": {},
   "outputs": [
    {
     "data": {
      "text/html": [
       "<div>\n",
       "<style scoped>\n",
       "    .dataframe tbody tr th:only-of-type {\n",
       "        vertical-align: middle;\n",
       "    }\n",
       "\n",
       "    .dataframe tbody tr th {\n",
       "        vertical-align: top;\n",
       "    }\n",
       "\n",
       "    .dataframe thead th {\n",
       "        text-align: right;\n",
       "    }\n",
       "</style>\n",
       "<table border=\"1\" class=\"dataframe\">\n",
       "  <thead>\n",
       "    <tr style=\"text-align: right;\">\n",
       "      <th></th>\n",
       "      <th>Intercept</th>\n",
       "      <th>Base_Price</th>\n",
       "      <th>InStore</th>\n",
       "      <th>TV</th>\n",
       "      <th>Discount</th>\n",
       "      <th>Stout</th>\n",
       "    </tr>\n",
       "  </thead>\n",
       "  <tbody>\n",
       "    <tr>\n",
       "      <th>0</th>\n",
       "      <td>1.00</td>\n",
       "      <td>15.03</td>\n",
       "      <td>15.45</td>\n",
       "      <td>101.78</td>\n",
       "      <td>0.00</td>\n",
       "      <td>2.28</td>\n",
       "    </tr>\n",
       "    <tr>\n",
       "      <th>1</th>\n",
       "      <td>1.00</td>\n",
       "      <td>15.03</td>\n",
       "      <td>16.39</td>\n",
       "      <td>76.73</td>\n",
       "      <td>0.00</td>\n",
       "      <td>2.22</td>\n",
       "    </tr>\n",
       "    <tr>\n",
       "      <th>2</th>\n",
       "      <td>1.00</td>\n",
       "      <td>14.59</td>\n",
       "      <td>62.69</td>\n",
       "      <td>131.59</td>\n",
       "      <td>0.05</td>\n",
       "      <td>2.01</td>\n",
       "    </tr>\n",
       "    <tr>\n",
       "      <th>3</th>\n",
       "      <td>1.00</td>\n",
       "      <td>15.33</td>\n",
       "      <td>16.57</td>\n",
       "      <td>119.63</td>\n",
       "      <td>0.00</td>\n",
       "      <td>2.20</td>\n",
       "    </tr>\n",
       "    <tr>\n",
       "      <th>4</th>\n",
       "      <td>1.00</td>\n",
       "      <td>15.64</td>\n",
       "      <td>41.50</td>\n",
       "      <td>103.44</td>\n",
       "      <td>0.04</td>\n",
       "      <td>1.82</td>\n",
       "    </tr>\n",
       "  </tbody>\n",
       "</table>\n",
       "</div>"
      ],
      "text/plain": [
       "   Intercept  Base_Price  InStore     TV  Discount  Stout\n",
       "0       1.00       15.03    15.45 101.78      0.00   2.28\n",
       "1       1.00       15.03    16.39  76.73      0.00   2.22\n",
       "2       1.00       14.59    62.69 131.59      0.05   2.01\n",
       "3       1.00       15.33    16.57 119.63      0.00   2.20\n",
       "4       1.00       15.64    41.50 103.44      0.04   1.82"
      ]
     },
     "execution_count": 90,
     "metadata": {},
     "output_type": "execute_result"
    }
   ],
   "source": [
    "X.head()"
   ]
  },
  {
   "cell_type": "code",
   "execution_count": 91,
   "metadata": {},
   "outputs": [
    {
     "data": {
      "text/html": [
       "<div>\n",
       "<style scoped>\n",
       "    .dataframe tbody tr th:only-of-type {\n",
       "        vertical-align: middle;\n",
       "    }\n",
       "\n",
       "    .dataframe tbody tr th {\n",
       "        vertical-align: top;\n",
       "    }\n",
       "\n",
       "    .dataframe thead th {\n",
       "        text-align: right;\n",
       "    }\n",
       "</style>\n",
       "<table border=\"1\" class=\"dataframe\">\n",
       "  <thead>\n",
       "    <tr style=\"text-align: right;\">\n",
       "      <th></th>\n",
       "      <th>NewVolSales</th>\n",
       "    </tr>\n",
       "  </thead>\n",
       "  <tbody>\n",
       "    <tr>\n",
       "      <th>0</th>\n",
       "      <td>19564.00</td>\n",
       "    </tr>\n",
       "    <tr>\n",
       "      <th>1</th>\n",
       "      <td>19387.00</td>\n",
       "    </tr>\n",
       "    <tr>\n",
       "      <th>2</th>\n",
       "      <td>23889.00</td>\n",
       "    </tr>\n",
       "    <tr>\n",
       "      <th>3</th>\n",
       "      <td>20055.00</td>\n",
       "    </tr>\n",
       "    <tr>\n",
       "      <th>4</th>\n",
       "      <td>20064.00</td>\n",
       "    </tr>\n",
       "  </tbody>\n",
       "</table>\n",
       "</div>"
      ],
      "text/plain": [
       "   NewVolSales\n",
       "0     19564.00\n",
       "1     19387.00\n",
       "2     23889.00\n",
       "3     20055.00\n",
       "4     20064.00"
      ]
     },
     "execution_count": 91,
     "metadata": {},
     "output_type": "execute_result"
    }
   ],
   "source": [
    "y.head()"
   ]
  },
  {
   "cell_type": "code",
   "execution_count": 92,
   "metadata": {},
   "outputs": [],
   "source": [
    "## VIF - variance inflation factor function\n",
    "from statsmodels.stats.outliers_influence import variance_inflation_factor"
   ]
  },
  {
   "cell_type": "code",
   "execution_count": 93,
   "metadata": {},
   "outputs": [],
   "source": [
    "vif = pd.DataFrame()\n",
    "vif[\"VIF Factor\"] = [variance_inflation_factor(X.values, i) for i in range(X.shape[1])]\n",
    "vif[\"features\"] = X.columns"
   ]
  },
  {
   "cell_type": "code",
   "execution_count": 94,
   "metadata": {},
   "outputs": [
    {
     "data": {
      "text/html": [
       "<div>\n",
       "<style scoped>\n",
       "    .dataframe tbody tr th:only-of-type {\n",
       "        vertical-align: middle;\n",
       "    }\n",
       "\n",
       "    .dataframe tbody tr th {\n",
       "        vertical-align: top;\n",
       "    }\n",
       "\n",
       "    .dataframe thead th {\n",
       "        text-align: right;\n",
       "    }\n",
       "</style>\n",
       "<table border=\"1\" class=\"dataframe\">\n",
       "  <thead>\n",
       "    <tr style=\"text-align: right;\">\n",
       "      <th></th>\n",
       "      <th>VIF Factor</th>\n",
       "      <th>features</th>\n",
       "    </tr>\n",
       "  </thead>\n",
       "  <tbody>\n",
       "    <tr>\n",
       "      <th>0</th>\n",
       "      <td>1173.20</td>\n",
       "      <td>Intercept</td>\n",
       "    </tr>\n",
       "    <tr>\n",
       "      <th>1</th>\n",
       "      <td>1.10</td>\n",
       "      <td>Base_Price</td>\n",
       "    </tr>\n",
       "    <tr>\n",
       "      <th>2</th>\n",
       "      <td>2.20</td>\n",
       "      <td>InStore</td>\n",
       "    </tr>\n",
       "    <tr>\n",
       "      <th>3</th>\n",
       "      <td>1.10</td>\n",
       "      <td>TV</td>\n",
       "    </tr>\n",
       "    <tr>\n",
       "      <th>4</th>\n",
       "      <td>2.20</td>\n",
       "      <td>Discount</td>\n",
       "    </tr>\n",
       "    <tr>\n",
       "      <th>5</th>\n",
       "      <td>1.00</td>\n",
       "      <td>Stout</td>\n",
       "    </tr>\n",
       "  </tbody>\n",
       "</table>\n",
       "</div>"
      ],
      "text/plain": [
       "   VIF Factor    features\n",
       "0     1173.20   Intercept\n",
       "1        1.10  Base_Price\n",
       "2        2.20     InStore\n",
       "3        1.10          TV\n",
       "4        2.20    Discount\n",
       "5        1.00       Stout"
      ]
     },
     "execution_count": 94,
     "metadata": {},
     "output_type": "execute_result"
    }
   ],
   "source": [
    "vif.round(1)"
   ]
  },
  {
   "cell_type": "code",
   "execution_count": 95,
   "metadata": {},
   "outputs": [],
   "source": [
    "#VIF should be less than 5. Here Instore and Discount are only two variables VIF < 5\n",
    "# is a Python package for describing statistical models (especially linear models, or models that have a linear component)"
   ]
  }
 ],
 "metadata": {
  "kernelspec": {
   "display_name": "Python 3",
   "language": "python",
   "name": "python3"
  },
  "language_info": {
   "codemirror_mode": {
    "name": "ipython",
    "version": 3
   },
   "file_extension": ".py",
   "mimetype": "text/x-python",
   "name": "python",
   "nbconvert_exporter": "python",
   "pygments_lexer": "ipython3",
   "version": "3.7.10"
  }
 },
 "nbformat": 4,
 "nbformat_minor": 2
}
